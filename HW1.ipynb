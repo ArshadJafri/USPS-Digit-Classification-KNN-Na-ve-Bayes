{
  "nbformat": 4,
  "nbformat_minor": 0,
  "metadata": {
    "colab": {
      "provenance": []
    },
    "kernelspec": {
      "name": "python3",
      "display_name": "Python 3"
    },
    "language_info": {
      "name": "python"
    }
  },
  "cells": [
    {
      "cell_type": "code",
      "source": [
        "import pandas as  pd\n",
        "import numpy as np\n",
        "import matplotlib.pyplot as plt\n",
        "import seaborn as sns\n",
        "import os"
      ],
      "metadata": {
        "id": "thzYkUcgTxFz"
      },
      "execution_count": 487,
      "outputs": []
    },
    {
      "cell_type": "code",
      "source": [
        "path = \"/content/usps.h5\""
      ],
      "metadata": {
        "id": "fyRWHs9LVNoV"
      },
      "execution_count": 488,
      "outputs": []
    },
    {
      "cell_type": "code",
      "source": [
        "import h5py\n",
        "with h5py.File(path, 'r') as hf:\n",
        "        train = hf.get('train')\n",
        "        X_train = train.get('data')[:]\n",
        "        y_train = train.get('target')[:]\n",
        "        test = hf.get('test')\n",
        "        X_test = test.get('data')[:]\n",
        "        y_test = test.get('target')[:]\n"
      ],
      "metadata": {
        "id": "0i7fAImJUA7L"
      },
      "execution_count": 489,
      "outputs": []
    },
    {
      "cell_type": "code",
      "source": [
        "plt.imshow(X_train[2].reshape(16,16), cmap='gray')\n",
        "plt.title(f'Label: {y_train[2]}')\n",
        "plt.show()"
      ],
      "metadata": {
        "colab": {
          "base_uri": "https://localhost:8080/",
          "height": 452
        },
        "id": "WC5Y8MxbV8q7",
        "outputId": "c95272d8-1f01-41f9-ec5d-9a246c69dd24"
      },
      "execution_count": 490,
      "outputs": [
        {
          "output_type": "display_data",
          "data": {
            "text/plain": [
              "<Figure size 640x480 with 1 Axes>"
            ],
            "image/png": "[encoded data removed]"
          },
          "metadata": {}
        }
      ]
    },
    {
      "cell_type": "code",
      "source": [
        "print(\"Shape of the Train data features\")\n",
        "print(X_train.shape)\n",
        "print(\"Shape of the Train data target\")\n",
        "print(y_train.shape)\n",
        "print(\"Shape of the Test data features\")\n",
        "print(X_test.shape)\n",
        "print(\"Shape of the Test data target\")\n",
        "\n",
        "print(y_test.shape)"
      ],
      "metadata": {
        "colab": {
          "base_uri": "https://localhost:8080/"
        },
        "id": "_EIKZv3OWF-r",
        "outputId": "42150ef1-97e0-471a-cecb-6eef3bf43b63"
      },
      "execution_count": 491,
      "outputs": [
        {
          "output_type": "stream",
          "name": "stdout",
          "text": [
            "Shape of the Train data features\n",
            "(7291, 256)\n",
            "Shape of the Train data target\n",
            "(7291,)\n",
            "Shape of the Test data features\n",
            "(2007, 256)\n",
            "Shape of the Test data target\n",
            "(2007,)\n"
          ]
        }
      ]
    },
    {
      "cell_type": "code",
      "source": [
        "print(np.unique(y_train))"
      ],
      "metadata": {
        "colab": {
          "base_uri": "https://localhost:8080/"
        },
        "id": "DdNygFPypK14",
        "outputId": "f443c1aa-c135-4cb5-94b9-73f8edbf6d24"
      },
      "execution_count": 492,
      "outputs": [
        {
          "output_type": "stream",
          "name": "stdout",
          "text": [
            "[0 1 2 3 4 5 6 7 8 9]\n"
          ]
        }
      ]
    },
    {
      "cell_type": "markdown",
      "source": [
        "**Using PCA and Standard**"
      ],
      "metadata": {
        "id": "lyURD8j0_K3D"
      }
    },
    {
      "cell_type": "code",
      "source": [
        "from sklearn.decomposition import PCA\n",
        "pca = PCA(n_components=50)\n",
        "X_train = pca.fit_transform(X_train)\n",
        "X_test = pca.transform(X_test)"
      ],
      "metadata": {
        "id": "wqzof_Oh8LiC"
      },
      "execution_count": 493,
      "outputs": []
    },
    {
      "cell_type": "code",
      "source": [
        "from sklearn.preprocessing import StandardScaler\n",
        "scaler = StandardScaler()\n",
        "X_train_scaled = scaler.fit_transform(X_train)\n",
        "X_test_scaled = scaler.transform(X_test)"
      ],
      "metadata": {
        "id": "lPh-Zuto8-8Z"
      },
      "execution_count": 494,
      "outputs": []
    },
    {
      "cell_type": "code",
      "source": [],
      "metadata": {
        "id": "ub1bW4TR_nhR"
      },
      "execution_count": 494,
      "outputs": []
    },
    {
      "cell_type": "markdown",
      "source": [
        "**KNN Models**"
      ],
      "metadata": {
        "id": "ZhG9qbID_o9I"
      }
    },
    {
      "cell_type": "code",
      "source": [
        "from sklearn.model_selection import KFold\n",
        "from sklearn.neighbors import KNeighborsClassifier"
      ],
      "metadata": {
        "id": "K3AbHsZZXZMv"
      },
      "execution_count": 495,
      "outputs": []
    },
    {
      "cell_type": "code",
      "source": [
        "from sklearn.model_selection import cross_val_score\n",
        "clf = KNeighborsClassifier(n_neighbors=3)\n",
        "scores = cross_val_score(clf, X_train, y_train, cv=10)\n"
      ],
      "metadata": {
        "id": "py-0P_HgYfbb"
      },
      "execution_count": 496,
      "outputs": []
    },
    {
      "cell_type": "code",
      "source": [
        "print(\"Train accuracy: \", scores.mean())"
      ],
      "metadata": {
        "colab": {
          "base_uri": "https://localhost:8080/"
        },
        "id": "eMbdYxJeo4qk",
        "outputId": "b62d48cb-4aa5-40d0-9d2f-213ee1dba9b8"
      },
      "execution_count": 497,
      "outputs": [
        {
          "output_type": "stream",
          "name": "stdout",
          "text": [
            "Train accuracy:  0.9729802506717778\n"
          ]
        }
      ]
    },
    {
      "cell_type": "code",
      "source": [
        "\n",
        "clf.fit(X_train, y_train)\n",
        "\n"
      ],
      "metadata": {
        "colab": {
          "base_uri": "https://localhost:8080/",
          "height": 80
        },
        "id": "OZ4MWKzXo56D",
        "outputId": "78d41449-2a8b-4421-c89f-b27b74f2a3b7"
      },
      "execution_count": 498,
      "outputs": [
        {
          "output_type": "execute_result",
          "data": {
            "text/plain": [
              "KNeighborsClassifier(n_neighbors=3)"
            ],
            "text/html": [
              "<style>#sk-container-id-19 {\n",
              "  /* Definition of color scheme common for light and dark mode */\n",
              "  --sklearn-color-text: #000;\n",
              "  --sklearn-color-text-muted: #666;\n",
              "  --sklearn-color-line: gray;\n",
              "  /* Definition of color scheme for unfitted estimators */\n",
              "  --sklearn-color-unfitted-level-0: #fff5e6;\n",
              "  --sklearn-color-unfitted-level-1: #f6e4d2;\n",
              "  --sklearn-color-unfitted-level-2: #ffe0b3;\n",
              "  --sklearn-color-unfitted-level-3: chocolate;\n",
              "  /* Definition of color scheme for fitted estimators */\n",
              "  --sklearn-color-fitted-level-0: #f0f8ff;\n",
              "  --sklearn-color-fitted-level-1: #d4ebff;\n",
              "  --sklearn-color-fitted-level-2: #b3dbfd;\n",
              "  --sklearn-color-fitted-level-3: cornflowerblue;\n",
              "\n",
              "  /* Specific color for light theme */\n",
              "  --sklearn-color-text-on-default-background: var(--sg-text-color, var(--theme-code-foreground, var(--jp-content-font-color1, black)));\n",
              "  --sklearn-color-background: var(--sg-background-color, var(--theme-background, var(--jp-layout-color0, white)));\n",
              "  --sklearn-color-border-box: var(--sg-text-color, var(--theme-code-foreground, var(--jp-content-font-color1, black)));\n",
              "  --sklearn-color-icon: #696969;\n",
              "\n",
              "  @media (prefers-color-scheme: dark) {\n",
              "    /* Redefinition of color scheme for dark theme */\n",
              "    --sklearn-color-text-on-default-background: var(--sg-text-color, var(--theme-code-foreground, var(--jp-content-font-color1, white)));\n",
              "    --sklearn-color-background: var(--sg-background-color, var(--theme-background, var(--jp-layout-color0, #111)));\n",
              "    --sklearn-color-border-box: var(--sg-text-color, var(--theme-code-foreground, var(--jp-content-font-color1, white)));\n",
              "    --sklearn-color-icon: #878787;\n",
              "  }\n",
              "}\n",
              "\n",
              "#sk-container-id-19 {\n",
              "  color: var(--sklearn-color-text);\n",
              "}\n",
              "\n",
              "#sk-container-id-19 pre {\n",
              "  padding: 0;\n",
              "}\n",
              "\n",
              "#sk-container-id-19 input.sk-hidden--visually {\n",
              "  border: 0;\n",
              "  clip: rect(1px 1px 1px 1px);\n",
              "  clip: rect(1px, 1px, 1px, 1px);\n",
              "  height: 1px;\n",
              "  margin: -1px;\n",
              "  overflow: hidden;\n",
              "  padding: 0;\n",
              "  position: absolute;\n",
              "  width: 1px;\n",
              "}\n",
              "\n",
              "#sk-container-id-19 div.sk-dashed-wrapped {\n",
              "  border: 1px dashed var(--sklearn-color-line);\n",
              "  margin: 0 0.4em 0.5em 0.4em;\n",
              "  box-sizing: border-box;\n",
              "  padding-bottom: 0.4em;\n",
              "  background-color: var(--sklearn-color-background);\n",
              "}\n",
              "\n",
              "#sk-container-id-19 div.sk-container {\n",
              "  /* jupyter's `normalize.less` sets `[hidden] { display: none; }`\n",
              "     but bootstrap.min.css set `[hidden] { display: none !important; }`\n",
              "     so we also need the `!important` here to be able to override the\n",
              "     default hidden behavior on the sphinx rendered scikit-learn.org.\n",
              "     See: https://github.com/scikit-learn/scikit-learn/issues/21755 */\n",
              "  display: inline-block !important;\n",
              "  position: relative;\n",
              "}\n",
              "\n",
              "#sk-container-id-19 div.sk-text-repr-fallback {\n",
              "  display: none;\n",
              "}\n",
              "\n",
              "div.sk-parallel-item,\n",
              "div.sk-serial,\n",
              "div.sk-item {\n",
              "  /* draw centered vertical line to link estimators */\n",
              "  background-image: linear-gradient(var(--sklearn-color-text-on-default-background), var(--sklearn-color-text-on-default-background));\n",
              "  background-size: 2px 100%;\n",
              "  background-repeat: no-repeat;\n",
              "  background-position: center center;\n",
              "}\n",
              "\n",
              "/* Parallel-specific style estimator block */\n",
              "\n",
              "#sk-container-id-19 div.sk-parallel-item::after {\n",
              "  content: \"\";\n",
              "  width: 100%;\n",
              "  border-bottom: 2px solid var(--sklearn-color-text-on-default-background);\n",
              "  flex-grow: 1;\n",
              "}\n",
              "\n",
              "#sk-container-id-19 div.sk-parallel {\n",
              "  display: flex;\n",
              "  align-items: stretch;\n",
              "  justify-content: center;\n",
              "  background-color: var(--sklearn-color-background);\n",
              "  position: relative;\n",
              "}\n",
              "\n",
              "#sk-container-id-19 div.sk-parallel-item {\n",
              "  display: flex;\n",
              "  flex-direction: column;\n",
              "}\n",
              "\n",
              "#sk-container-id-19 div.sk-parallel-item:first-child::after {\n",
              "  align-self: flex-end;\n",
              "  width: 50%;\n",
              "}\n",
              "\n",
              "#sk-container-id-19 div.sk-parallel-item:last-child::after {\n",
              "  align-self: flex-start;\n",
              "  width: 50%;\n",
              "}\n",
              "\n",
              "#sk-container-id-19 div.sk-parallel-item:only-child::after {\n",
              "  width: 0;\n",
              "}\n",
              "\n",
              "/* Serial-specific style estimator block */\n",
              "\n",
              "#sk-container-id-19 div.sk-serial {\n",
              "  display: flex;\n",
              "  flex-direction: column;\n",
              "  align-items: center;\n",
              "  background-color: var(--sklearn-color-background);\n",
              "  padding-right: 1em;\n",
              "  padding-left: 1em;\n",
              "}\n",
              "\n",
              "\n",
              "/* Toggleable style: style used for estimator/Pipeline/ColumnTransformer box that is\n",
              "clickable and can be expanded/collapsed.\n",
              "- Pipeline and ColumnTransformer use this feature and define the default style\n",
              "- Estimators will overwrite some part of the style using the `sk-estimator` class\n",
              "*/\n",
              "\n",
              "/* Pipeline and ColumnTransformer style (default) */\n",
              "\n",
              "#sk-container-id-19 div.sk-toggleable {\n",
              "  /* Default theme specific background. It is overwritten whether we have a\n",
              "  specific estimator or a Pipeline/ColumnTransformer */\n",
              "  background-color: var(--sklearn-color-background);\n",
              "}\n",
              "\n",
              "/* Toggleable label */\n",
              "#sk-container-id-19 label.sk-toggleable__label {\n",
              "  cursor: pointer;\n",
              "  display: flex;\n",
              "  width: 100%;\n",
              "  margin-bottom: 0;\n",
              "  padding: 0.5em;\n",
              "  box-sizing: border-box;\n",
              "  text-align: center;\n",
              "  align-items: start;\n",
              "  justify-content: space-between;\n",
              "  gap: 0.5em;\n",
              "}\n",
              "\n",
              "#sk-container-id-19 label.sk-toggleable__label .caption {\n",
              "  font-size: 0.6rem;\n",
              "  font-weight: lighter;\n",
              "  color: var(--sklearn-color-text-muted);\n",
              "}\n",
              "\n",
              "#sk-container-id-19 label.sk-toggleable__label-arrow:before {\n",
              "  /* Arrow on the left of the label */\n",
              "  content: \"▸\";\n",
              "  float: left;\n",
              "  margin-right: 0.25em;\n",
              "  color: var(--sklearn-color-icon);\n",
              "}\n",
              "\n",
              "#sk-container-id-19 label.sk-toggleable__label-arrow:hover:before {\n",
              "  color: var(--sklearn-color-text);\n",
              "}\n",
              "\n",
              "/* Toggleable content - dropdown */\n",
              "\n",
              "#sk-container-id-19 div.sk-toggleable__content {\n",
              "  max-height: 0;\n",
              "  max-width: 0;\n",
              "  overflow: hidden;\n",
              "  text-align: left;\n",
              "  /* unfitted */\n",
              "  background-color: var(--sklearn-color-unfitted-level-0);\n",
              "}\n",
              "\n",
              "#sk-container-id-19 div.sk-toggleable__content.fitted {\n",
              "  /* fitted */\n",
              "  background-color: var(--sklearn-color-fitted-level-0);\n",
              "}\n",
              "\n",
              "#sk-container-id-19 div.sk-toggleable__content pre {\n",
              "  margin: 0.2em;\n",
              "  border-radius: 0.25em;\n",
              "  color: var(--sklearn-color-text);\n",
              "  /* unfitted */\n",
              "  background-color: var(--sklearn-color-unfitted-level-0);\n",
              "}\n",
              "\n",
              "#sk-container-id-19 div.sk-toggleable__content.fitted pre {\n",
              "  /* unfitted */\n",
              "  background-color: var(--sklearn-color-fitted-level-0);\n",
              "}\n",
              "\n",
              "#sk-container-id-19 input.sk-toggleable__control:checked~div.sk-toggleable__content {\n",
              "  /* Expand drop-down */\n",
              "  max-height: 200px;\n",
              "  max-width: 100%;\n",
              "  overflow: auto;\n",
              "}\n",
              "\n",
              "#sk-container-id-19 input.sk-toggleable__control:checked~label.sk-toggleable__label-arrow:before {\n",
              "  content: \"▾\";\n",
              "}\n",
              "\n",
              "/* Pipeline/ColumnTransformer-specific style */\n",
              "\n",
              "#sk-container-id-19 div.sk-label input.sk-toggleable__control:checked~label.sk-toggleable__label {\n",
              "  color: var(--sklearn-color-text);\n",
              "  background-color: var(--sklearn-color-unfitted-level-2);\n",
              "}\n",
              "\n",
              "#sk-container-id-19 div.sk-label.fitted input.sk-toggleable__control:checked~label.sk-toggleable__label {\n",
              "  background-color: var(--sklearn-color-fitted-level-2);\n",
              "}\n",
              "\n",
              "/* Estimator-specific style */\n",
              "\n",
              "/* Colorize estimator box */\n",
              "#sk-container-id-19 div.sk-estimator input.sk-toggleable__control:checked~label.sk-toggleable__label {\n",
              "  /* unfitted */\n",
              "  background-color: var(--sklearn-color-unfitted-level-2);\n",
              "}\n",
              "\n",
              "#sk-container-id-19 div.sk-estimator.fitted input.sk-toggleable__control:checked~label.sk-toggleable__label {\n",
              "  /* fitted */\n",
              "  background-color: var(--sklearn-color-fitted-level-2);\n",
              "}\n",
              "\n",
              "#sk-container-id-19 div.sk-label label.sk-toggleable__label,\n",
              "#sk-container-id-19 div.sk-label label {\n",
              "  /* The background is the default theme color */\n",
              "  color: var(--sklearn-color-text-on-default-background);\n",
              "}\n",
              "\n",
              "/* On hover, darken the color of the background */\n",
              "#sk-container-id-19 div.sk-label:hover label.sk-toggleable__label {\n",
              "  color: var(--sklearn-color-text);\n",
              "  background-color: var(--sklearn-color-unfitted-level-2);\n",
              "}\n",
              "\n",
              "/* Label box, darken color on hover, fitted */\n",
              "#sk-container-id-19 div.sk-label.fitted:hover label.sk-toggleable__label.fitted {\n",
              "  color: var(--sklearn-color-text);\n",
              "  background-color: var(--sklearn-color-fitted-level-2);\n",
              "}\n",
              "\n",
              "/* Estimator label */\n",
              "\n",
              "#sk-container-id-19 div.sk-label label {\n",
              "  font-family: monospace;\n",
              "  font-weight: bold;\n",
              "  display: inline-block;\n",
              "  line-height: 1.2em;\n",
              "}\n",
              "\n",
              "#sk-container-id-19 div.sk-label-container {\n",
              "  text-align: center;\n",
              "}\n",
              "\n",
              "/* Estimator-specific */\n",
              "#sk-container-id-19 div.sk-estimator {\n",
              "  font-family: monospace;\n",
              "  border: 1px dotted var(--sklearn-color-border-box);\n",
              "  border-radius: 0.25em;\n",
              "  box-sizing: border-box;\n",
              "  margin-bottom: 0.5em;\n",
              "  /* unfitted */\n",
              "  background-color: var(--sklearn-color-unfitted-level-0);\n",
              "}\n",
              "\n",
              "#sk-container-id-19 div.sk-estimator.fitted {\n",
              "  /* fitted */\n",
              "  background-color: var(--sklearn-color-fitted-level-0);\n",
              "}\n",
              "\n",
              "/* on hover */\n",
              "#sk-container-id-19 div.sk-estimator:hover {\n",
              "  /* unfitted */\n",
              "  background-color: var(--sklearn-color-unfitted-level-2);\n",
              "}\n",
              "\n",
              "#sk-container-id-19 div.sk-estimator.fitted:hover {\n",
              "  /* fitted */\n",
              "  background-color: var(--sklearn-color-fitted-level-2);\n",
              "}\n",
              "\n",
              "/* Specification for estimator info (e.g. \"i\" and \"?\") */\n",
              "\n",
              "/* Common style for \"i\" and \"?\" */\n",
              "\n",
              ".sk-estimator-doc-link,\n",
              "a:link.sk-estimator-doc-link,\n",
              "a:visited.sk-estimator-doc-link {\n",
              "  float: right;\n",
              "  font-size: smaller;\n",
              "  line-height: 1em;\n",
              "  font-family: monospace;\n",
              "  background-color: var(--sklearn-color-background);\n",
              "  border-radius: 1em;\n",
              "  height: 1em;\n",
              "  width: 1em;\n",
              "  text-decoration: none !important;\n",
              "  margin-left: 0.5em;\n",
              "  text-align: center;\n",
              "  /* unfitted */\n",
              "  border: var(--sklearn-color-unfitted-level-1) 1pt solid;\n",
              "  color: var(--sklearn-color-unfitted-level-1);\n",
              "}\n",
              "\n",
              ".sk-estimator-doc-link.fitted,\n",
              "a:link.sk-estimator-doc-link.fitted,\n",
              "a:visited.sk-estimator-doc-link.fitted {\n",
              "  /* fitted */\n",
              "  border: var(--sklearn-color-fitted-level-1) 1pt solid;\n",
              "  color: var(--sklearn-color-fitted-level-1);\n",
              "}\n",
              "\n",
              "/* On hover */\n",
              "div.sk-estimator:hover .sk-estimator-doc-link:hover,\n",
              ".sk-estimator-doc-link:hover,\n",
              "div.sk-label-container:hover .sk-estimator-doc-link:hover,\n",
              ".sk-estimator-doc-link:hover {\n",
              "  /* unfitted */\n",
              "  background-color: var(--sklearn-color-unfitted-level-3);\n",
              "  color: var(--sklearn-color-background);\n",
              "  text-decoration: none;\n",
              "}\n",
              "\n",
              "div.sk-estimator.fitted:hover .sk-estimator-doc-link.fitted:hover,\n",
              ".sk-estimator-doc-link.fitted:hover,\n",
              "div.sk-label-container:hover .sk-estimator-doc-link.fitted:hover,\n",
              ".sk-estimator-doc-link.fitted:hover {\n",
              "  /* fitted */\n",
              "  background-color: var(--sklearn-color-fitted-level-3);\n",
              "  color: var(--sklearn-color-background);\n",
              "  text-decoration: none;\n",
              "}\n",
              "\n",
              "/* Span, style for the box shown on hovering the info icon */\n",
              ".sk-estimator-doc-link span {\n",
              "  display: none;\n",
              "  z-index: 9999;\n",
              "  position: relative;\n",
              "  font-weight: normal;\n",
              "  right: .2ex;\n",
              "  padding: .5ex;\n",
              "  margin: .5ex;\n",
              "  width: min-content;\n",
              "  min-width: 20ex;\n",
              "  max-width: 50ex;\n",
              "  color: var(--sklearn-color-text);\n",
              "  box-shadow: 2pt 2pt 4pt #999;\n",
              "  /* unfitted */\n",
              "  background: var(--sklearn-color-unfitted-level-0);\n",
              "  border: .5pt solid var(--sklearn-color-unfitted-level-3);\n",
              "}\n",
              "\n",
              ".sk-estimator-doc-link.fitted span {\n",
              "  /* fitted */\n",
              "  background: var(--sklearn-color-fitted-level-0);\n",
              "  border: var(--sklearn-color-fitted-level-3);\n",
              "}\n",
              "\n",
              ".sk-estimator-doc-link:hover span {\n",
              "  display: block;\n",
              "}\n",
              "\n",
              "/* \"?\"-specific style due to the `<a>` HTML tag */\n",
              "\n",
              "#sk-container-id-19 a.estimator_doc_link {\n",
              "  float: right;\n",
              "  font-size: 1rem;\n",
              "  line-height: 1em;\n",
              "  font-family: monospace;\n",
              "  background-color: var(--sklearn-color-background);\n",
              "  border-radius: 1rem;\n",
              "  height: 1rem;\n",
              "  width: 1rem;\n",
              "  text-decoration: none;\n",
              "  /* unfitted */\n",
              "  color: var(--sklearn-color-unfitted-level-1);\n",
              "  border: var(--sklearn-color-unfitted-level-1) 1pt solid;\n",
              "}\n",
              "\n",
              "#sk-container-id-19 a.estimator_doc_link.fitted {\n",
              "  /* fitted */\n",
              "  border: var(--sklearn-color-fitted-level-1) 1pt solid;\n",
              "  color: var(--sklearn-color-fitted-level-1);\n",
              "}\n",
              "\n",
              "/* On hover */\n",
              "#sk-container-id-19 a.estimator_doc_link:hover {\n",
              "  /* unfitted */\n",
              "  background-color: var(--sklearn-color-unfitted-level-3);\n",
              "  color: var(--sklearn-color-background);\n",
              "  text-decoration: none;\n",
              "}\n",
              "\n",
              "#sk-container-id-19 a.estimator_doc_link.fitted:hover {\n",
              "  /* fitted */\n",
              "  background-color: var(--sklearn-color-fitted-level-3);\n",
              "}\n",
              "</style><div id=\"sk-container-id-19\" class=\"sk-top-container\"><div class=\"sk-text-repr-fallback\"><pre>KNeighborsClassifier(n_neighbors=3)</pre><b>In a Jupyter environment, please rerun this cell to show the HTML representation or trust the notebook. <br />On GitHub, the HTML representation is unable to render, please try loading this page with nbviewer.org.</b></div><div class=\"sk-container\" hidden><div class=\"sk-item\"><div class=\"sk-estimator fitted sk-toggleable\"><input class=\"sk-toggleable__control sk-hidden--visually\" id=\"sk-estimator-id-19\" type=\"checkbox\" checked><label for=\"sk-estimator-id-19\" class=\"sk-toggleable__label fitted sk-toggleable__label-arrow\"><div><div>KNeighborsClassifier</div></div><div><a class=\"sk-estimator-doc-link fitted\" rel=\"noreferrer\" target=\"_blank\" href=\"https://scikit-learn.org/1.6/modules/generated/sklearn.neighbors.KNeighborsClassifier.html\">?<span>Documentation for KNeighborsClassifier</span></a><span class=\"sk-estimator-doc-link fitted\">i<span>Fitted</span></span></div></label><div class=\"sk-toggleable__content fitted\"><pre>KNeighborsClassifier(n_neighbors=3)</pre></div> </div></div></div></div>"
            ]
          },
          "metadata": {},
          "execution_count": 498
        }
      ]
    },
    {
      "cell_type": "code",
      "source": [
        "# Evaluate on test set\n",
        "from sklearn.metrics import accuracy_score\n",
        "y_pred = clf.predict(X_test)\n",
        "test_accuracy = accuracy_score(y_test, y_pred)"
      ],
      "metadata": {
        "id": "S4e5FsChrhoG"
      },
      "execution_count": 499,
      "outputs": []
    },
    {
      "cell_type": "code",
      "source": [
        "print(\"Test accuracy :\",test_accuracy)"
      ],
      "metadata": {
        "colab": {
          "base_uri": "https://localhost:8080/"
        },
        "id": "6WtO99cxr2VW",
        "outputId": "9b403218-7394-4a51-941d-570bd7998cef"
      },
      "execution_count": 500,
      "outputs": [
        {
          "output_type": "stream",
          "name": "stdout",
          "text": [
            "Test accuracy : 0.9486796213253612\n"
          ]
        }
      ]
    },
    {
      "cell_type": "code",
      "source": [
        "from sklearn.metrics import confusion_matrix, classification_report"
      ],
      "metadata": {
        "id": "uqFqipXfr55k"
      },
      "execution_count": 501,
      "outputs": []
    },
    {
      "cell_type": "code",
      "source": [
        "print(confusion_matrix(y_true=y_test, y_pred= y_pred))"
      ],
      "metadata": {
        "colab": {
          "base_uri": "https://localhost:8080/"
        },
        "id": "T8sHyqXgsujA",
        "outputId": "20dcfdc9-b195-4004-ff5d-a82e4cd860fd"
      },
      "execution_count": 502,
      "outputs": [
        {
          "output_type": "stream",
          "name": "stdout",
          "text": [
            "[[355   0   3   0   0   0   0   0   0   1]\n",
            " [  0 257   0   0   4   0   2   1   0   0]\n",
            " [  7   0 185   1   1   0   0   1   3   0]\n",
            " [  3   0   1 153   0   6   0   0   1   2]\n",
            " [  0   1   2   0 183   1   2   2   1   8]\n",
            " [  3   1   2   2   0 148   0   0   1   3]\n",
            " [  3   1   1   0   2   0 163   0   0   0]\n",
            " [  0   1   1   1   3   0   0 140   0   1]\n",
            " [  4   0   2   1   0   2   1   1 153   2]\n",
            " [  1   1   1   0   3   0   0   3   1 167]]\n"
          ]
        }
      ]
    },
    {
      "cell_type": "code",
      "source": [
        "from sklearn.metrics import precision_score, recall_score\n",
        "\n",
        "print(\"Precison score\")\n",
        "print(precision_score(y_true=y_test, y_pred=y_pred, average=\"macro\"))\n",
        "print(\"Recall score\")\n",
        "print(recall_score(y_true=y_test, y_pred=y_pred, average=\"macro\"))"
      ],
      "metadata": {
        "colab": {
          "base_uri": "https://localhost:8080/"
        },
        "id": "AEpGGp_uszkB",
        "outputId": "ae4cb2b5-4ab0-4c2d-95b3-c3897469ca56"
      },
      "execution_count": 503,
      "outputs": [
        {
          "output_type": "stream",
          "name": "stdout",
          "text": [
            "Precison score\n",
            "0.9484154196887384\n",
            "Recall score\n",
            "0.9434767022174325\n"
          ]
        }
      ]
    },
    {
      "cell_type": "code",
      "source": [
        "train_scores = []\n",
        "test_scores = []\n",
        "\n",
        "for i in range(1,11):\n",
        "  print(\"For k value \", i, \" :\")\n",
        "  clf = KNeighborsClassifier(n_neighbors=i)\n",
        "  scores = cross_val_score(clf, X_train, y_train, cv=10)\n",
        "  score = scores.mean()\n",
        "  test_score = clf.fit(X_train, y_train).score(X_test, y_test)\n",
        "  train_scores.append(score)\n",
        "  test_scores.append(test_score)\n",
        "  print(f\"Neighbors: {i}, Train accuracy: {score:.4f}, Test accuracy: {test_score:.4f}\")\n",
        "  print(\"Confusion matrix :\")\n",
        "  print(confusion_matrix(y_true=y_test, y_pred= clf.predict(X_test)))\n",
        "  print(\"Precision score : \")\n",
        "  print(precision_score(y_true=y_test, y_pred=clf.predict(X_test), average=\"macro\"))\n",
        "  print(\"Recall score : \")\n",
        "  print(recall_score(y_true=y_test, y_pred=clf.predict(X_test), average=\"macro\"))\n",
        "  print(\"----------------------------\")\n",
        "\n",
        ""
      ],
      "metadata": {
        "colab": {
          "base_uri": "https://localhost:8080/"
        },
        "id": "JZURD_6rtOFM",
        "outputId": "d60b03c3-76bb-41df-9e4b-b8060bcd65f6"
      },
      "execution_count": 504,
      "outputs": [
        {
          "output_type": "stream",
          "name": "stdout",
          "text": [
            "For k value  1  :\n",
            "Neighbors: 1, Train accuracy: 0.9733, Test accuracy: 0.9482\n",
            "Confusion matrix :\n",
            "[[355   0   2   0   0   0   0   1   0   1]\n",
            " [  0 255   0   0   6   0   2   1   0   0]\n",
            " [  4   0 186   2   1   0   0   1   4   0]\n",
            " [  2   0   1 153   0   9   0   0   0   1]\n",
            " [  0   2   0   0 184   2   2   2   1   7]\n",
            " [  2   1   2   2   0 149   0   0   3   1]\n",
            " [  0   0   1   0   2   4 163   0   0   0]\n",
            " [  0   1   1   1   4   0   0 136   2   2]\n",
            " [  2   0   2   5   0   2   0   0 151   4]\n",
            " [  0   0   1   0   1   0   0   3   1 171]]\n",
            "Precision score : \n",
            "0.9438701530347882\n",
            "Recall score : \n",
            "0.9426831562580743\n",
            "----------------------------\n",
            "For k value  2  :\n",
            "Neighbors: 2, Train accuracy: 0.9667, Test accuracy: 0.9482\n",
            "Confusion matrix :\n",
            "[[355   0   3   0   0   0   0   0   0   1]\n",
            " [  0 260   0   0   3   0   1   0   0   0]\n",
            " [  9   0 185   1   1   0   0   1   1   0]\n",
            " [  3   0   1 155   0   6   0   0   0   1]\n",
            " [  1   2   2   0 187   1   0   2   0   5]\n",
            " [  3   1   2   8   0 146   0   0   0   0]\n",
            " [  3   0   1   0   2   3 161   0   0   0]\n",
            " [  0   2   1   1   4   0   0 139   0   0]\n",
            " [  4   0   4   3   0   2   0   1 150   2]\n",
            " [  1   1   1   0   4   1   0   4   0 165]]\n",
            "Precision score : \n",
            "0.9491384108099208\n",
            "Recall score : \n",
            "0.9417739700153381\n",
            "----------------------------\n",
            "For k value  3  :\n",
            "Neighbors: 3, Train accuracy: 0.9730, Test accuracy: 0.9487\n",
            "Confusion matrix :\n",
            "[[355   0   3   0   0   0   0   0   0   1]\n",
            " [  0 257   0   0   4   0   2   1   0   0]\n",
            " [  7   0 185   1   1   0   0   1   3   0]\n",
            " [  3   0   1 153   0   6   0   0   1   2]\n",
            " [  0   1   2   0 183   1   2   2   1   8]\n",
            " [  3   1   2   2   0 148   0   0   1   3]\n",
            " [  3   1   1   0   2   0 163   0   0   0]\n",
            " [  0   1   1   1   3   0   0 140   0   1]\n",
            " [  4   0   2   1   0   2   1   1 153   2]\n",
            " [  1   1   1   0   3   0   0   3   1 167]]\n",
            "Precision score : \n",
            "0.9484154196887384\n",
            "Recall score : \n",
            "0.9434767022174325\n",
            "----------------------------\n",
            "For k value  4  :\n",
            "Neighbors: 4, Train accuracy: 0.9700, Test accuracy: 0.9447\n",
            "Confusion matrix :\n",
            "[[355   0   3   0   0   0   0   0   0   1]\n",
            " [  0 258   0   0   4   0   2   0   0   0]\n",
            " [  6   0 183   1   1   0   2   2   3   0]\n",
            " [  2   0   2 155   0   4   0   1   0   2]\n",
            " [  0   3   3   0 185   1   2   2   0   4]\n",
            " [  5   0   2   4   0 144   0   0   1   4]\n",
            " [  3   1   2   0   2   0 162   0   0   0]\n",
            " [  0   1   1   1   4   1   0 138   0   1]\n",
            " [  5   0   1   3   0   3   2   1 149   2]\n",
            " [  1   1   1   0   2   1   0   4   0 167]]\n",
            "Precision score : \n",
            "0.9439571786232257\n",
            "Recall score : \n",
            "0.9381917902972061\n",
            "----------------------------\n",
            "For k value  5  :\n",
            "Neighbors: 5, Train accuracy: 0.9685, Test accuracy: 0.9477\n",
            "Confusion matrix :\n",
            "[[355   0   2   0   1   0   0   0   0   1]\n",
            " [  0 258   0   0   4   0   2   0   0   0]\n",
            " [  6   0 183   1   1   0   1   2   4   0]\n",
            " [  2   0   2 154   0   5   0   1   0   2]\n",
            " [  0   3   2   0 184   1   2   2   0   6]\n",
            " [  4   0   2   2   0 147   0   0   1   4]\n",
            " [  3   0   2   0   2   0 163   0   0   0]\n",
            " [  0   1   1   1   4   1   0 137   0   2]\n",
            " [  2   0   1   4   0   3   1   1 152   2]\n",
            " [  1   0   1   0   1   1   0   4   0 169]]\n",
            "Precision score : \n",
            "0.9458380951546841\n",
            "Recall score : \n",
            "0.9418095162624136\n",
            "----------------------------\n",
            "For k value  6  :\n",
            "Neighbors: 6, Train accuracy: 0.9669, Test accuracy: 0.9432\n",
            "Confusion matrix :\n",
            "[[355   0   2   0   1   0   0   0   0   1]\n",
            " [  0 258   0   0   4   0   2   0   0   0]\n",
            " [  6   0 183   1   1   0   1   2   4   0]\n",
            " [  2   0   2 154   0   5   0   1   0   2]\n",
            " [  0   3   4   0 184   0   2   2   0   5]\n",
            " [  4   0   2   4   0 144   0   0   1   5]\n",
            " [  3   0   3   0   2   2 160   0   0   0]\n",
            " [  0   1   1   1   4   1   0 139   0   0]\n",
            " [  4   2   1   2   0   4   2   2 148   1]\n",
            " [  1   0   1   0   2   1   0   4   0 168]]\n",
            "Precision score : \n",
            "0.9415792732878817\n",
            "Recall score : \n",
            "0.9365557442921183\n",
            "----------------------------\n",
            "For k value  7  :\n",
            "Neighbors: 7, Train accuracy: 0.9665, Test accuracy: 0.9412\n",
            "Confusion matrix :\n",
            "[[355   0   2   0   1   0   0   0   0   1]\n",
            " [  0 258   0   0   4   0   2   0   0   0]\n",
            " [  7   0 182   1   1   0   1   2   4   0]\n",
            " [  3   0   1 154   0   5   0   1   0   2]\n",
            " [  0   3   4   0 182   0   2   2   0   7]\n",
            " [  6   0   2   2   0 144   0   0   1   5]\n",
            " [  3   1   2   0   3   2 159   0   0   0]\n",
            " [  0   1   1   1   4   1   0 138   0   1]\n",
            " [  4   1   1   3   0   5   0   0 149   3]\n",
            " [  1   0   0   0   2   1   0   4   1 168]]\n",
            "Precision score : \n",
            "0.9407027284393328\n",
            "Recall score : \n",
            "0.9343845960226608\n",
            "----------------------------\n",
            "For k value  8  :\n",
            "Neighbors: 8, Train accuracy: 0.9660, Test accuracy: 0.9397\n",
            "Confusion matrix :\n",
            "[[355   0   2   0   1   0   0   0   0   1]\n",
            " [  0 258   0   0   4   0   2   0   0   0]\n",
            " [  7   0 182   1   1   0   2   2   3   0]\n",
            " [  2   0   2 154   0   5   0   1   0   2]\n",
            " [  0   3   4   0 184   0   2   2   0   5]\n",
            " [  6   0   3   4   0 141   0   0   1   5]\n",
            " [  3   0   3   0   2   2 159   0   1   0]\n",
            " [  0   1   1   1   4   1   0 137   1   1]\n",
            " [  4   2   0   3   0   5   1   0 148   3]\n",
            " [  1   0   0   0   2   1   0   4   1 168]]\n",
            "Precision score : \n",
            "0.9383173966638152\n",
            "Recall score : \n",
            "0.9322269142752629\n",
            "----------------------------\n",
            "For k value  9  :\n",
            "Neighbors: 9, Train accuracy: 0.9649, Test accuracy: 0.9367\n",
            "Confusion matrix :\n",
            "[[354   0   2   0   1   0   1   0   0   1]\n",
            " [  0 257   0   0   4   0   3   0   0   0]\n",
            " [  7   0 181   1   1   0   2   2   4   0]\n",
            " [  3   0   1 154   0   6   0   1   0   1]\n",
            " [  0   3   4   0 181   0   2   2   0   8]\n",
            " [  5   0   3   4   0 143   0   0   1   4]\n",
            " [  3   0   3   0   2   2 159   0   1   0]\n",
            " [  0   1   1   1   4   1   0 136   1   2]\n",
            " [  5   2   0   5   0   3   1   0 147   3]\n",
            " [  1   0   0   0   2   1   0   4   1 168]]\n",
            "Precision score : \n",
            "0.9351246929315924\n",
            "Recall score : \n",
            "0.9295318426119934\n",
            "----------------------------\n",
            "For k value  10  :\n",
            "Neighbors: 10, Train accuracy: 0.9645, Test accuracy: 0.9382\n",
            "Confusion matrix :\n",
            "[[354   0   2   0   1   0   1   0   0   1]\n",
            " [  0 257   0   0   4   0   3   0   0   0]\n",
            " [  7   0 182   1   1   0   2   2   3   0]\n",
            " [  3   0   2 154   0   5   0   1   0   1]\n",
            " [  0   3   5   0 181   0   2   2   0   7]\n",
            " [  4   0   2   5   0 144   0   0   1   4]\n",
            " [  3   0   3   0   2   2 159   0   1   0]\n",
            " [  0   2   1   1   3   1   0 137   1   1]\n",
            " [  4   2   0   4   0   5   1   2 147   1]\n",
            " [  1   0   0   0   1   1   0   5   1 168]]\n",
            "Precision score : \n",
            "0.935985155090839\n",
            "Recall score : \n",
            "0.9313421652258874\n",
            "----------------------------\n"
          ]
        }
      ]
    },
    {
      "cell_type": "code",
      "source": [
        "plt.plot(range(1,11), train_scores, label=\"Train\")\n",
        "plt.plot(range(1,11), test_scores, label=\"Test\")\n",
        "plt.legend()\n",
        "plt.show()"
      ],
      "metadata": {
        "colab": {
          "base_uri": "https://localhost:8080/",
          "height": 435
        },
        "id": "BzuAyGd8u8Xf",
        "outputId": "16ad3909-1394-4c6f-fded-b5a33696bdf4"
      },
      "execution_count": 505,
      "outputs": [
        {
          "output_type": "display_data",
          "data": {
            "text/plain": [
              "<Figure size 640x480 with 1 Axes>"
            ],
            "image/png": "[encoded data removed]"
          },
          "metadata": {}
        }
      ]
    },
    {
      "cell_type": "code",
      "source": [],
      "metadata": {
        "id": "O3Rg9kLe_sPd"
      },
      "execution_count": 505,
      "outputs": []
    },
    {
      "cell_type": "markdown",
      "source": [
        "**Naive Bayes Model**"
      ],
      "metadata": {
        "id": "JkukXS19_suV"
      }
    },
    {
      "cell_type": "code",
      "source": [
        "from scipy.ndimage.interpolation import shift\n",
        "from sklearn.metrics import accuracy_score"
      ],
      "metadata": {
        "colab": {
          "base_uri": "https://localhost:8080/"
        },
        "id": "x2giL6xyCFkP",
        "outputId": "e5b52a65-da9c-4423-95e8-c4820407c03e"
      },
      "execution_count": 506,
      "outputs": [
        {
          "output_type": "stream",
          "name": "stderr",
          "text": [
            "<ipython-input-506-7b5c807e8aaf>:1: DeprecationWarning: Please import `shift` from the `scipy.ndimage` namespace; the `scipy.ndimage.interpolation` namespace is deprecated and will be removed in SciPy 2.0.0.\n",
            "  from scipy.ndimage.interpolation import shift\n"
          ]
        }
      ]
    },
    {
      "cell_type": "code",
      "source": [],
      "metadata": {
        "id": "zSUsK6XtDtS3"
      },
      "execution_count": 506,
      "outputs": []
    },
    {
      "cell_type": "code",
      "source": [
        "from sklearn.naive_bayes import GaussianNB\n",
        "\n",
        "nb = GaussianNB()\n",
        "\n",
        "scores  = cross_val_score(nb, X_train, y_train, cv=10)\n",
        "print(\"Train accuracy: \", scores.mean())\n",
        "nb.fit(X_train, y_train)\n",
        "\n",
        "# Predict on test set\n",
        "y_pred_nb = nb.predict(X_test)\n",
        "\n",
        "# Compute metrics\n",
        "accuracy_nb = accuracy_score(y_test, y_pred_nb)\n",
        "precision_nb = precision_score(y_test, y_pred_nb, average='macro')\n",
        "recall_nb = recall_score(y_test, y_pred_nb, average='macro')\n",
        "\n",
        "# Print results\n",
        "print(f\"Naïve Bayes Test Accuracy: {accuracy_nb:.4f}\")\n",
        "print(f\"Naïve Bayes Test Precision: {precision_nb:.4f}\")\n",
        "print(f\"Naïve Bayes Test Recall: {recall_nb:.4f}\")\n",
        "\n",
        "print(\"Confusion matrix naive bayes\")\n",
        "print(confusion_matrix(y_true=y_test, y_pred= y_pred_nb))"
      ],
      "metadata": {
        "colab": {
          "base_uri": "https://localhost:8080/"
        },
        "id": "TlFIqJQHu-jM",
        "outputId": "a15076a6-95dd-4466-9ee7-5fab73fc4eaa"
      },
      "execution_count": 507,
      "outputs": [
        {
          "output_type": "stream",
          "name": "stdout",
          "text": [
            "Train accuracy:  0.9009720578010786\n",
            "Naïve Bayes Test Accuracy: 0.8670\n",
            "Naïve Bayes Test Precision: 0.8603\n",
            "Naïve Bayes Test Recall: 0.8568\n",
            "Confusion matrix naive bayes\n",
            "[[338   0   6   1   2   6   6   0   0   0]\n",
            " [  1 233   0   2   5   3   9   1   3   7]\n",
            " [  1   0 171   5   8   1   2   2   8   0]\n",
            " [  1   0   5 138   1  16   1   1   2   1]\n",
            " [  1   1   9   0 177   1   1   1   0   9]\n",
            " [  3   0   2  10   4 136   0   0   2   3]\n",
            " [  4   0   8   0   5  13 139   0   1   0]\n",
            " [  0   0   2   0   8   3   0 124   2   8]\n",
            " [  2   0   6  10   5  12   1   0 128   2]\n",
            " [  2   0   2   1   9   2   0   2   3 156]]\n"
          ]
        }
      ]
    },
    {
      "cell_type": "code",
      "source": [],
      "metadata": {
        "id": "PdCCGzvn2dqO"
      },
      "execution_count": 507,
      "outputs": []
    },
    {
      "cell_type": "code",
      "source": [],
      "metadata": {
        "id": "5LsPbaZh4a3q"
      },
      "execution_count": 507,
      "outputs": []
    },
    {
      "cell_type": "code",
      "source": [],
      "metadata": {
        "id": "u9tEQDm34cXj"
      },
      "execution_count": 507,
      "outputs": []
    }
  ]
}